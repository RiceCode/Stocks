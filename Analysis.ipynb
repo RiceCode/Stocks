{
 "cells": [
  {
   "cell_type": "code",
   "execution_count": null,
   "metadata": {},
   "outputs": [],
   "source": [
    "# Raw Package\n",
    "import numpy as np\n",
    "import pandas as pd\n",
    "from datetime import date\n",
    "from numpy.polynomial import Chebyshev\n",
    "import os \n",
    "\n",
    "import pickle\n",
    "\n",
    "#Data Source\n",
    "import yfinance as yf\n",
    "\n",
    "#Data viz\n",
    "import plotly.graph_objs as go"
   ]
  },
  {
   "cell_type": "code",
   "execution_count": null,
   "metadata": {},
   "outputs": [],
   "source": [
    "#Interval by 1 day\n",
    "#yf.pdr_override() #not needed\n",
    "data = yf.download(tickers='SPY', period='1y', interval='1d')\n",
    "\n",
    "#Print data\n",
    "data"
   ]
  },
  {
   "cell_type": "code",
   "execution_count": null,
   "metadata": {},
   "outputs": [],
   "source": [
    "fig = go.Figure()\n",
    "\n",
    "#Candlestick\n",
    "fig.add_trace(go.Candlestick (\n",
    "    x=data.index,\n",
    "    open=data['Open'],\n",
    "    close=data['Close'],\n",
    "    high=data['High'],\n",
    "    low=data['Low'])\n",
    ")\n",
    "\n",
    "#Add titles\n",
    "fig.update_layout (\n",
    "    title='SPY shares',\n",
    "    yaxis_title='Stock Price (USD)'\n",
    ")\n",
    "\n",
    "fig.update_xaxes(\n",
    "    rangeslider_visible=True,\n",
    "    rangeselector=dict(\n",
    "        buttons=list([\n",
    "            dict(count=15, label='Month', step='month',stepmode='backward'),\n",
    "            dict(count=1, label='Day', step='day',stepmode='backward'),\n",
    "            dict(step='all'),\n",
    "        ])\n",
    "    )\n",
    "\n",
    ")\n",
    "\n",
    "fig.show()"
   ]
  }
 ],
 "metadata": {
  "kernelspec": {
   "display_name": "Python 3.8.5 32-bit",
   "language": "python",
   "name": "python3"
  },
  "language_info": {
   "name": "python",
   "version": "3.8.5"
  },
  "orig_nbformat": 4,
  "vscode": {
   "interpreter": {
    "hash": "31e86aa387df971ea191d3c650bbc3dd68d83522c3e4af7e4838540fc302091a"
   }
  }
 },
 "nbformat": 4,
 "nbformat_minor": 2
}
