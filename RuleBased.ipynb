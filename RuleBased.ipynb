{
 "cells": [
  {
   "cell_type": "markdown",
   "metadata": {},
   "source": [
    "## STOCKS\n",
    "\n",
    "Let's build some script to see if we can have it perfrom better than SP500 or simply saving it into a high interest savings account. \n",
    "function.py contains the functions that you'll need to manage your portfolio.\n",
    "Analysis.ipynb will consist of some graphs for you to compare your performance. \n",
    "RuleBased.ipynb will be the your script. \n",
    "\n",
    "In this case, we're going to build a \"Rule Based\" trading algorithm which measures the recent trend to determine whether we will buy or sell. \n",
    "The plan is to run this once a day, and let the script determine whether we should buy or sell. \n"
   ]
  },
  {
   "cell_type": "markdown",
   "metadata": {},
   "source": [
    "Future To Do:\n",
    "- Capital Loss needs to take into consideration buying and selling dates. \n",
    "- Analysis"
   ]
  },
  {
   "cell_type": "code",
   "execution_count": 1,
   "metadata": {},
   "outputs": [],
   "source": [
    "#importing libraries we'll use\n",
    "import numpy as np\n",
    "import pandas as pd\n",
    "from datetime import date\n",
    "from numpy.polynomial import Chebyshev\n",
    "import os \n",
    "from function import *\n",
    "import math\n",
    "import pickle\n",
    "\n",
    "#data source for stocks\n",
    "import yfinance as yf\n"
   ]
  },
  {
   "cell_type": "markdown",
   "metadata": {},
   "source": [
    "### To start for the first time, uncomment and run the below function:"
   ]
  },
  {
   "cell_type": "code",
   "execution_count": 2,
   "metadata": {},
   "outputs": [
    {
     "name": "stdout",
     "output_type": "stream",
     "text": [
      "You have $100000 to spend. Your current stocks are:\n",
      "Empty DataFrame\n",
      "Columns: [Ticker, Price, Amount]\n",
      "Index: []\n",
      "saved. you may close.\n"
     ]
    }
   ],
   "source": [
    "#wallet = inventory()       #create the wallet object that contains your cash, stocks etc.\n",
    "#print(f\"You have ${wallet.cash} to spend. Your current stocks are:\")\n",
    "#print(wallet.holdings)\n",
    "#save(wallet)\n"
   ]
  },
  {
   "cell_type": "markdown",
   "metadata": {},
   "source": [
    "### To resume, run below\n",
    "\n",
    "If below fails, read above block. Make sure you've ran that once before so the wallet object is saved."
   ]
  },
  {
   "cell_type": "code",
   "execution_count": 3,
   "metadata": {},
   "outputs": [
    {
     "name": "stdout",
     "output_type": "stream",
     "text": [
      "loaded\n",
      "<function.inventory object at 0x05FCB4C0>\n"
     ]
    }
   ],
   "source": [
    "wallet = load() \n",
    "print(wallet)\n"
   ]
  },
  {
   "cell_type": "markdown",
   "metadata": {},
   "source": [
    "### Before we start writing our script, let's review some functions that's created: "
   ]
  },
  {
   "cell_type": "code",
   "execution_count": 4,
   "metadata": {},
   "outputs": [
    {
     "data": {
      "text/plain": [
       "100000"
      ]
     },
     "execution_count": 4,
     "metadata": {},
     "output_type": "execute_result"
    }
   ],
   "source": [
    "# Check what you have: \n",
    "wallet.holdings\n",
    "wallet.cash\n",
    "\n",
    "# buy_stock:        buy the stock SPY, 100 shares\n",
    "# buy_stock(wallet, 'SPY', 100)\n",
    "\n",
    "# sell_stock:       sell the stock at index 0, 15 shares. Use wallet.holdings to see what index that stock is located. \n",
    "# sell_stock(wallet, 0, 15)\n",
    "\n",
    "# buy_max -         use all your money to buy a specific stock. No partial stock. \n",
    "# buy_max(wallet, 'AAPL')\n",
    "\n",
    "# panic_sell:       SELL EVERYTHING WE HAVE PANIC!!!!!\n",
    "# sell_stock(wallet)\n"
   ]
  },
  {
   "cell_type": "markdown",
   "metadata": {},
   "source": [
    "## Write your script to do some trading!\n",
    "In this case, we're using a rule based script that tracks last 3 days, last 7 days, and last 30 days. Depending on how they're trending, we either buy or sell. "
   ]
  },
  {
   "cell_type": "code",
   "execution_count": 5,
   "metadata": {},
   "outputs": [
    {
     "name": "stdout",
     "output_type": "stream",
     "text": [
      "[*********************100%***********************]  1 of 1 completed\n",
      "-2.2100067138671875 -2.3566691080729165 -0.5709089799360796\n"
     ]
    }
   ],
   "source": [
    "#Writing some supporting functions for our daily dummy trading\n",
    "\n",
    "\n",
    "#Returns a number\n",
    "def slope(df_subset): \n",
    "    #choosing a subset of the data\n",
    "    max = df_subset.index.max()\n",
    "    min = df_subset.index.min()\n",
    "\n",
    "    day1 = data.at[min, \"Close\"]\n",
    "    day3 = data.at[max, \"Close\"]\n",
    "    numdays = len(df_subset)\n",
    "\n",
    "    slopeval =(day3-day1)/numdays\n",
    "\n",
    "    return slopeval\n",
    "\n",
    "\n",
    "\n",
    "#get the latest information regarding a stock\n",
    "data = yf.download(tickers='SPY', period='1y', interval='1d')\n",
    "\n",
    "#get the subset of data, will be using that to determine the slope (or the direction it's going)\n",
    "df_subset3 = data[date.today() - pd.offsets.Day(3):]\n",
    "df_subset7 = data[date.today() - pd.offsets.Day(7):]\n",
    "df_subset30 = data[date.today() - pd.offsets.Day(30):]\n",
    "\n",
    "#test last 3 days, 7 days, and 30 days\n",
    "slope3 = slope(df_subset3)\n",
    "slope7 = slope(df_subset7)\n",
    "slope30 = slope(df_subset30)\n",
    "\n",
    "print(slope3, slope7, slope30)"
   ]
  },
  {
   "cell_type": "code",
   "execution_count": 6,
   "metadata": {},
   "outputs": [
    {
     "name": "stdout",
     "output_type": "stream",
     "text": [
      "Case2\n",
      "Panic!\n"
     ]
    }
   ],
   "source": [
    "#Our dumb trading method (who knows, most likely perform better than me in 2022!): \n",
    "\n",
    "#if recently started trending positive, BUY BUY BUY\n",
    "if slope3 > 1:\n",
    "    print(\"Case1\")\n",
    "    buy_max(wallet, 'SPY')\n",
    "\n",
    "#if recently started trending VERY negative, SELL SELL SELL \n",
    "if slope3 < -1: \n",
    "    print(\"Case2\")\n",
    "    panic_sell(wallet)\n",
    "\n",
    "#if we're on a downwards trend for awhile and a slight downtick happens, we SELL SELL SELL\n",
    "if slope30 < -1 and slope7 < -1 and slope3 < -0.25:\n",
    "    print(\"Case3\")\n",
    "    panic_sell(wallet)\n",
    "\n",
    "#if we're on a downwards trend for awhile and a slight slight uptick happens, we BUY BUY BUY\n",
    "if slope30 < -1 and slope7 < -1 and slope3 > 0.25:\n",
    "    print(\"Case4\")\n",
    "    buy_max(wallet, 'SPY')\n"
   ]
  },
  {
   "cell_type": "markdown",
   "metadata": {},
   "source": [
    "## End your script by saving your work! \n"
   ]
  },
  {
   "cell_type": "code",
   "execution_count": 7,
   "metadata": {},
   "outputs": [
    {
     "name": "stdout",
     "output_type": "stream",
     "text": [
      "You ended with $100000. Your current stocks are:\n",
      "Empty DataFrame\n",
      "Columns: [Ticker, Price, Amount]\n",
      "Index: []\n",
      "saved. you may close.\n"
     ]
    }
   ],
   "source": [
    "print(f\"You ended with ${wallet.cash}. Your current stocks are:\")\n",
    "print(wallet.holdings)\n",
    "\n",
    "save(wallet)"
   ]
  }
 ],
 "metadata": {
  "kernelspec": {
   "display_name": "Python 3.8.5 32-bit",
   "language": "python",
   "name": "python3"
  },
  "language_info": {
   "codemirror_mode": {
    "name": "ipython",
    "version": 3
   },
   "file_extension": ".py",
   "mimetype": "text/x-python",
   "name": "python",
   "nbconvert_exporter": "python",
   "pygments_lexer": "ipython3",
   "version": "3.8.5"
  },
  "orig_nbformat": 4,
  "vscode": {
   "interpreter": {
    "hash": "31e86aa387df971ea191d3c650bbc3dd68d83522c3e4af7e4838540fc302091a"
   }
  }
 },
 "nbformat": 4,
 "nbformat_minor": 2
}
